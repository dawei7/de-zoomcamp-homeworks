{
 "cells": [
  {
   "cell_type": "markdown",
   "metadata": {},
   "source": [
    "# Homework"
   ]
  },
  {
   "cell_type": "code",
   "execution_count": 1,
   "metadata": {},
   "outputs": [
    {
     "name": "stdout",
     "output_type": "stream",
     "text": [
      "8.382332347441762\n"
     ]
    }
   ],
   "source": [
    "# Question 1: What is the sum of the outputs of the generator for limit = 5?\n",
    "# A: 10.234\n",
    "# B: 7.892\n",
    "# C: 8.382 - Correct\n",
    "# D: 9.123\n",
    "\n",
    "def square_root_generator(limit):\n",
    "    n = 1\n",
    "    while n <= limit:\n",
    "        yield n ** 0.5\n",
    "        n += 1\n",
    "\n",
    "# Example usage:\n",
    "limit = 5\n",
    "generator = square_root_generator(limit)\n",
    "total_sum = sum(generator)\n",
    "print(total_sum)"
   ]
  },
  {
   "cell_type": "code",
   "execution_count": 2,
   "metadata": {},
   "outputs": [
    {
     "data": {
      "text/plain": [
       "3.605551275463989"
      ]
     },
     "execution_count": 2,
     "metadata": {},
     "output_type": "execute_result"
    }
   ],
   "source": [
    "# Question 2: What is the 13th number yielded by the generator?\n",
    "# A: 4.236\n",
    "# B: 3.605 # Correct\n",
    "# C: 2.345\n",
    "# D: 5.678\n",
    "\n",
    "# To find the 13th number yielded by the generator, let's generate values up to the 13th number and access it.\n",
    "\n",
    "def square_root_generator(limit):\n",
    "    n = 1\n",
    "    while n <= limit:\n",
    "        yield n ** 0.5\n",
    "        n += 1\n",
    "\n",
    "# Set limit to 13 for this specific question\n",
    "limit = 13\n",
    "generator = square_root_generator(limit)\n",
    "\n",
    "# Generating and collecting all values up to the 13th number\n",
    "all_values = list(generator)\n",
    "\n",
    "# Accessing the 13th value\n",
    "thirteenth_value = all_values[12]  # Indexing starts at 0, so the 13th element is at index 12\n",
    "thirteenth_value"
   ]
  },
  {
   "cell_type": "code",
   "execution_count": 3,
   "metadata": {},
   "outputs": [
    {
     "name": "stderr",
     "output_type": "stream",
     "text": [
      "C:\\Users\\david\\AppData\\Local\\Temp\\ipykernel_19432\\3159515950.py:7: DeprecationWarning: \n",
      "Pyarrow will become a required dependency of pandas in the next major release of pandas (pandas 3.0),\n",
      "(to allow more performant data types, such as the Arrow string type, and better interoperability with other libraries)\n",
      "but was not found to be installed on your system.\n",
      "If this would cause problems for you,\n",
      "please provide us feedback at https://github.com/pandas-dev/pandas/issues/54466\n",
      "        \n",
      "  import pandas as pd\n"
     ]
    },
    {
     "data": {
      "text/plain": [
       "(140, 353)"
      ]
     },
     "execution_count": 3,
     "metadata": {},
     "output_type": "execute_result"
    }
   ],
   "source": [
    "# Question 3: Append the 2 generators. After correctly appending the data, calculate the sum of all ages of people.\n",
    "# A: 353 - Correct\n",
    "# B: 365\n",
    "# C: 378\n",
    "# D: 390\n",
    "\n",
    "import pandas as pd\n",
    "\n",
    "# Redefine the generators inside this environment to ensure they are accessible\n",
    "def people_1():\n",
    "    for i in range(1, 6):\n",
    "        yield {\"ID\": i, \"Name\": f\"Person_{i}\", \"Age\": 25 + i, \"City\": \"City_A\"}\n",
    "\n",
    "def people_2():\n",
    "    for i in range(3, 9):\n",
    "        yield {\"ID\": i, \"Name\": f\"Person_{i}\", \"Age\": 30 + i, \"City\": \"City_B\", \"Occupation\": f\"Job_{i}\"}\n",
    "\n",
    "# Convert both generators to DataFrames\n",
    "df1 = pd.DataFrame(people_1())\n",
    "df2 = pd.DataFrame(people_2())\n",
    "\n",
    "# Simulate appending df2 to df1, handling non-matching columns by allowing NaN values\n",
    "combined_df = pd.concat([df1, df2], ignore_index=True)\n",
    "\n",
    "# Calculate the sum of ages after appending the data\n",
    "sum_of_ages_first = df1['Age'].sum()\n",
    "sum_of_ages_after_appending = combined_df['Age'].sum()\n",
    "\n",
    "sum_of_ages_first, sum_of_ages_after_appending"
   ]
  },
  {
   "cell_type": "code",
   "execution_count": 5,
   "metadata": {},
   "outputs": [
    {
     "data": {
      "text/plain": [
       "(266, 8, 33)"
      ]
     },
     "execution_count": 5,
     "metadata": {},
     "output_type": "execute_result"
    }
   ],
   "source": [
    "# Question 4: Merge the 2 generators using the ID column. Calculate the sum of ages of all the people loaded as described above.\n",
    "# A: 215\n",
    "# B: 266 - Correct\n",
    "# C: 241\n",
    "# D: 258\n",
    "\n",
    "# Convert both generators to DataFrames\n",
    "df1 = pd.DataFrame(people_1())\n",
    "df2 = pd.DataFrame(people_2())\n",
    "\n",
    "# Since df1 and df2 have overlapping IDs, we'll merge them with df2 taking precedence\n",
    "# This simulates the \"merge\" operation where the primary key is \"ID\"\n",
    "merged_df = pd.concat([df1, df2]).drop_duplicates(subset='ID', keep='last').sort_values(by='ID').reset_index(drop=True)\n",
    "\n",
    "# Calculate the sum of ages after merging the data\n",
    "sum_of_ages_after_merging = merged_df['Age'].sum()\n",
    "\n",
    "# Verify the total record count and ID 3's age to ensure correctness\n",
    "total_records = merged_df.shape[0]\n",
    "age_id_3 = merged_df.loc[merged_df['ID'] == 3, 'Age'].iloc[0]\n",
    "\n",
    "sum_of_ages_after_merging, total_records, age_id_3\n"
   ]
  },
  {
   "cell_type": "code",
   "execution_count": null,
   "metadata": {},
   "outputs": [],
   "source": []
  }
 ],
 "metadata": {
  "kernelspec": {
   "display_name": "venv",
   "language": "python",
   "name": "python3"
  },
  "language_info": {
   "codemirror_mode": {
    "name": "ipython",
    "version": 3
   },
   "file_extension": ".py",
   "mimetype": "text/x-python",
   "name": "python",
   "nbconvert_exporter": "python",
   "pygments_lexer": "ipython3",
   "version": "3.12.2"
  }
 },
 "nbformat": 4,
 "nbformat_minor": 2
}
